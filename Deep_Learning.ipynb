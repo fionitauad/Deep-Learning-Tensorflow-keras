{
  "nbformat": 4,
  "nbformat_minor": 0,
  "metadata": {
    "colab": {
      "provenance": []
    },
    "kernelspec": {
      "name": "python3",
      "display_name": "Python 3"
    },
    "language_info": {
      "name": "python"
    }
  },
  "cells": [
    {
      "cell_type": "markdown",
      "source": [
        "# Gathering Data"
      ],
      "metadata": {
        "id": "p5i8sDzX3zDI"
      }
    },
    {
      "cell_type": "code",
      "execution_count": 5,
      "metadata": {
        "id": "UuTH0JXI2vx7"
      },
      "outputs": [],
      "source": [
        "from pandas import read_csv"
      ]
    },
    {
      "cell_type": "code",
      "source": [
        "url = 'https://raw.githubusercontent.com/achmatim/data-mining/main/Dataset/iris.csv'\n",
        "df = read_csv(url)\n",
        "df.head()"
      ],
      "metadata": {
        "colab": {
          "base_uri": "https://localhost:8080/",
          "height": 206
        },
        "id": "HiDGUP_425l9",
        "outputId": "14b4f892-ccd1-4bef-8f66-ac2de2fb0b2c"
      },
      "execution_count": 6,
      "outputs": [
        {
          "output_type": "execute_result",
          "data": {
            "text/plain": [
              "   SepalLengthCm  SepalWidthCm  PetalLengthCm  PetalWidthCm        Label\n",
              "0            5.1           3.5            1.4           0.2  Iris-setosa\n",
              "1            4.9           3.0            1.4           0.2  Iris-setosa\n",
              "2            4.7           3.2            1.3           0.2  Iris-setosa\n",
              "3            4.6           3.1            1.5           0.2  Iris-setosa\n",
              "4            5.0           3.6            1.4           0.2  Iris-setosa"
            ],
            "text/html": [
              "\n",
              "  <div id=\"df-63b09f51-f760-420b-a180-ff32a17d5ed5\" class=\"colab-df-container\">\n",
              "    <div>\n",
              "<style scoped>\n",
              "    .dataframe tbody tr th:only-of-type {\n",
              "        vertical-align: middle;\n",
              "    }\n",
              "\n",
              "    .dataframe tbody tr th {\n",
              "        vertical-align: top;\n",
              "    }\n",
              "\n",
              "    .dataframe thead th {\n",
              "        text-align: right;\n",
              "    }\n",
              "</style>\n",
              "<table border=\"1\" class=\"dataframe\">\n",
              "  <thead>\n",
              "    <tr style=\"text-align: right;\">\n",
              "      <th></th>\n",
              "      <th>SepalLengthCm</th>\n",
              "      <th>SepalWidthCm</th>\n",
              "      <th>PetalLengthCm</th>\n",
              "      <th>PetalWidthCm</th>\n",
              "      <th>Label</th>\n",
              "    </tr>\n",
              "  </thead>\n",
              "  <tbody>\n",
              "    <tr>\n",
              "      <th>0</th>\n",
              "      <td>5.1</td>\n",
              "      <td>3.5</td>\n",
              "      <td>1.4</td>\n",
              "      <td>0.2</td>\n",
              "      <td>Iris-setosa</td>\n",
              "    </tr>\n",
              "    <tr>\n",
              "      <th>1</th>\n",
              "      <td>4.9</td>\n",
              "      <td>3.0</td>\n",
              "      <td>1.4</td>\n",
              "      <td>0.2</td>\n",
              "      <td>Iris-setosa</td>\n",
              "    </tr>\n",
              "    <tr>\n",
              "      <th>2</th>\n",
              "      <td>4.7</td>\n",
              "      <td>3.2</td>\n",
              "      <td>1.3</td>\n",
              "      <td>0.2</td>\n",
              "      <td>Iris-setosa</td>\n",
              "    </tr>\n",
              "    <tr>\n",
              "      <th>3</th>\n",
              "      <td>4.6</td>\n",
              "      <td>3.1</td>\n",
              "      <td>1.5</td>\n",
              "      <td>0.2</td>\n",
              "      <td>Iris-setosa</td>\n",
              "    </tr>\n",
              "    <tr>\n",
              "      <th>4</th>\n",
              "      <td>5.0</td>\n",
              "      <td>3.6</td>\n",
              "      <td>1.4</td>\n",
              "      <td>0.2</td>\n",
              "      <td>Iris-setosa</td>\n",
              "    </tr>\n",
              "  </tbody>\n",
              "</table>\n",
              "</div>\n",
              "    <div class=\"colab-df-buttons\">\n",
              "\n",
              "  <div class=\"colab-df-container\">\n",
              "    <button class=\"colab-df-convert\" onclick=\"convertToInteractive('df-63b09f51-f760-420b-a180-ff32a17d5ed5')\"\n",
              "            title=\"Convert this dataframe to an interactive table.\"\n",
              "            style=\"display:none;\">\n",
              "\n",
              "  <svg xmlns=\"http://www.w3.org/2000/svg\" height=\"24px\" viewBox=\"0 -960 960 960\">\n",
              "    <path d=\"M120-120v-720h720v720H120Zm60-500h600v-160H180v160Zm220 220h160v-160H400v160Zm0 220h160v-160H400v160ZM180-400h160v-160H180v160Zm440 0h160v-160H620v160ZM180-180h160v-160H180v160Zm440 0h160v-160H620v160Z\"/>\n",
              "  </svg>\n",
              "    </button>\n",
              "\n",
              "  <style>\n",
              "    .colab-df-container {\n",
              "      display:flex;\n",
              "      gap: 12px;\n",
              "    }\n",
              "\n",
              "    .colab-df-convert {\n",
              "      background-color: #E8F0FE;\n",
              "      border: none;\n",
              "      border-radius: 50%;\n",
              "      cursor: pointer;\n",
              "      display: none;\n",
              "      fill: #1967D2;\n",
              "      height: 32px;\n",
              "      padding: 0 0 0 0;\n",
              "      width: 32px;\n",
              "    }\n",
              "\n",
              "    .colab-df-convert:hover {\n",
              "      background-color: #E2EBFA;\n",
              "      box-shadow: 0px 1px 2px rgba(60, 64, 67, 0.3), 0px 1px 3px 1px rgba(60, 64, 67, 0.15);\n",
              "      fill: #174EA6;\n",
              "    }\n",
              "\n",
              "    .colab-df-buttons div {\n",
              "      margin-bottom: 4px;\n",
              "    }\n",
              "\n",
              "    [theme=dark] .colab-df-convert {\n",
              "      background-color: #3B4455;\n",
              "      fill: #D2E3FC;\n",
              "    }\n",
              "\n",
              "    [theme=dark] .colab-df-convert:hover {\n",
              "      background-color: #434B5C;\n",
              "      box-shadow: 0px 1px 3px 1px rgba(0, 0, 0, 0.15);\n",
              "      filter: drop-shadow(0px 1px 2px rgba(0, 0, 0, 0.3));\n",
              "      fill: #FFFFFF;\n",
              "    }\n",
              "  </style>\n",
              "\n",
              "    <script>\n",
              "      const buttonEl =\n",
              "        document.querySelector('#df-63b09f51-f760-420b-a180-ff32a17d5ed5 button.colab-df-convert');\n",
              "      buttonEl.style.display =\n",
              "        google.colab.kernel.accessAllowed ? 'block' : 'none';\n",
              "\n",
              "      async function convertToInteractive(key) {\n",
              "        const element = document.querySelector('#df-63b09f51-f760-420b-a180-ff32a17d5ed5');\n",
              "        const dataTable =\n",
              "          await google.colab.kernel.invokeFunction('convertToInteractive',\n",
              "                                                    [key], {});\n",
              "        if (!dataTable) return;\n",
              "\n",
              "        const docLinkHtml = 'Like what you see? Visit the ' +\n",
              "          '<a target=\"_blank\" href=https://colab.research.google.com/notebooks/data_table.ipynb>data table notebook</a>'\n",
              "          + ' to learn more about interactive tables.';\n",
              "        element.innerHTML = '';\n",
              "        dataTable['output_type'] = 'display_data';\n",
              "        await google.colab.output.renderOutput(dataTable, element);\n",
              "        const docLink = document.createElement('div');\n",
              "        docLink.innerHTML = docLinkHtml;\n",
              "        element.appendChild(docLink);\n",
              "      }\n",
              "    </script>\n",
              "  </div>\n",
              "\n",
              "\n",
              "<div id=\"df-9355ba8b-2216-4612-8a46-47a1c7a99945\">\n",
              "  <button class=\"colab-df-quickchart\" onclick=\"quickchart('df-9355ba8b-2216-4612-8a46-47a1c7a99945')\"\n",
              "            title=\"Suggest charts\"\n",
              "            style=\"display:none;\">\n",
              "\n",
              "<svg xmlns=\"http://www.w3.org/2000/svg\" height=\"24px\"viewBox=\"0 0 24 24\"\n",
              "     width=\"24px\">\n",
              "    <g>\n",
              "        <path d=\"M19 3H5c-1.1 0-2 .9-2 2v14c0 1.1.9 2 2 2h14c1.1 0 2-.9 2-2V5c0-1.1-.9-2-2-2zM9 17H7v-7h2v7zm4 0h-2V7h2v10zm4 0h-2v-4h2v4z\"/>\n",
              "    </g>\n",
              "</svg>\n",
              "  </button>\n",
              "\n",
              "<style>\n",
              "  .colab-df-quickchart {\n",
              "      --bg-color: #E8F0FE;\n",
              "      --fill-color: #1967D2;\n",
              "      --hover-bg-color: #E2EBFA;\n",
              "      --hover-fill-color: #174EA6;\n",
              "      --disabled-fill-color: #AAA;\n",
              "      --disabled-bg-color: #DDD;\n",
              "  }\n",
              "\n",
              "  [theme=dark] .colab-df-quickchart {\n",
              "      --bg-color: #3B4455;\n",
              "      --fill-color: #D2E3FC;\n",
              "      --hover-bg-color: #434B5C;\n",
              "      --hover-fill-color: #FFFFFF;\n",
              "      --disabled-bg-color: #3B4455;\n",
              "      --disabled-fill-color: #666;\n",
              "  }\n",
              "\n",
              "  .colab-df-quickchart {\n",
              "    background-color: var(--bg-color);\n",
              "    border: none;\n",
              "    border-radius: 50%;\n",
              "    cursor: pointer;\n",
              "    display: none;\n",
              "    fill: var(--fill-color);\n",
              "    height: 32px;\n",
              "    padding: 0;\n",
              "    width: 32px;\n",
              "  }\n",
              "\n",
              "  .colab-df-quickchart:hover {\n",
              "    background-color: var(--hover-bg-color);\n",
              "    box-shadow: 0 1px 2px rgba(60, 64, 67, 0.3), 0 1px 3px 1px rgba(60, 64, 67, 0.15);\n",
              "    fill: var(--button-hover-fill-color);\n",
              "  }\n",
              "\n",
              "  .colab-df-quickchart-complete:disabled,\n",
              "  .colab-df-quickchart-complete:disabled:hover {\n",
              "    background-color: var(--disabled-bg-color);\n",
              "    fill: var(--disabled-fill-color);\n",
              "    box-shadow: none;\n",
              "  }\n",
              "\n",
              "  .colab-df-spinner {\n",
              "    border: 2px solid var(--fill-color);\n",
              "    border-color: transparent;\n",
              "    border-bottom-color: var(--fill-color);\n",
              "    animation:\n",
              "      spin 1s steps(1) infinite;\n",
              "  }\n",
              "\n",
              "  @keyframes spin {\n",
              "    0% {\n",
              "      border-color: transparent;\n",
              "      border-bottom-color: var(--fill-color);\n",
              "      border-left-color: var(--fill-color);\n",
              "    }\n",
              "    20% {\n",
              "      border-color: transparent;\n",
              "      border-left-color: var(--fill-color);\n",
              "      border-top-color: var(--fill-color);\n",
              "    }\n",
              "    30% {\n",
              "      border-color: transparent;\n",
              "      border-left-color: var(--fill-color);\n",
              "      border-top-color: var(--fill-color);\n",
              "      border-right-color: var(--fill-color);\n",
              "    }\n",
              "    40% {\n",
              "      border-color: transparent;\n",
              "      border-right-color: var(--fill-color);\n",
              "      border-top-color: var(--fill-color);\n",
              "    }\n",
              "    60% {\n",
              "      border-color: transparent;\n",
              "      border-right-color: var(--fill-color);\n",
              "    }\n",
              "    80% {\n",
              "      border-color: transparent;\n",
              "      border-right-color: var(--fill-color);\n",
              "      border-bottom-color: var(--fill-color);\n",
              "    }\n",
              "    90% {\n",
              "      border-color: transparent;\n",
              "      border-bottom-color: var(--fill-color);\n",
              "    }\n",
              "  }\n",
              "</style>\n",
              "\n",
              "  <script>\n",
              "    async function quickchart(key) {\n",
              "      const quickchartButtonEl =\n",
              "        document.querySelector('#' + key + ' button');\n",
              "      quickchartButtonEl.disabled = true;  // To prevent multiple clicks.\n",
              "      quickchartButtonEl.classList.add('colab-df-spinner');\n",
              "      try {\n",
              "        const charts = await google.colab.kernel.invokeFunction(\n",
              "            'suggestCharts', [key], {});\n",
              "      } catch (error) {\n",
              "        console.error('Error during call to suggestCharts:', error);\n",
              "      }\n",
              "      quickchartButtonEl.classList.remove('colab-df-spinner');\n",
              "      quickchartButtonEl.classList.add('colab-df-quickchart-complete');\n",
              "    }\n",
              "    (() => {\n",
              "      let quickchartButtonEl =\n",
              "        document.querySelector('#df-9355ba8b-2216-4612-8a46-47a1c7a99945 button');\n",
              "      quickchartButtonEl.style.display =\n",
              "        google.colab.kernel.accessAllowed ? 'block' : 'none';\n",
              "    })();\n",
              "  </script>\n",
              "</div>\n",
              "    </div>\n",
              "  </div>\n"
            ],
            "application/vnd.google.colaboratory.intrinsic+json": {
              "type": "dataframe",
              "variable_name": "df",
              "summary": "{\n  \"name\": \"df\",\n  \"rows\": 150,\n  \"fields\": [\n    {\n      \"column\": \"SepalLengthCm\",\n      \"properties\": {\n        \"dtype\": \"number\",\n        \"std\": 0.828066127977863,\n        \"min\": 4.3,\n        \"max\": 7.9,\n        \"num_unique_values\": 35,\n        \"samples\": [\n          6.2,\n          4.5,\n          5.6\n        ],\n        \"semantic_type\": \"\",\n        \"description\": \"\"\n      }\n    },\n    {\n      \"column\": \"SepalWidthCm\",\n      \"properties\": {\n        \"dtype\": \"number\",\n        \"std\": 0.4335943113621737,\n        \"min\": 2.0,\n        \"max\": 4.4,\n        \"num_unique_values\": 23,\n        \"samples\": [\n          2.3,\n          4.0,\n          3.5\n        ],\n        \"semantic_type\": \"\",\n        \"description\": \"\"\n      }\n    },\n    {\n      \"column\": \"PetalLengthCm\",\n      \"properties\": {\n        \"dtype\": \"number\",\n        \"std\": 1.7644204199522626,\n        \"min\": 1.0,\n        \"max\": 6.9,\n        \"num_unique_values\": 43,\n        \"samples\": [\n          6.7,\n          3.8,\n          3.7\n        ],\n        \"semantic_type\": \"\",\n        \"description\": \"\"\n      }\n    },\n    {\n      \"column\": \"PetalWidthCm\",\n      \"properties\": {\n        \"dtype\": \"number\",\n        \"std\": 0.7631607417008411,\n        \"min\": 0.1,\n        \"max\": 2.5,\n        \"num_unique_values\": 22,\n        \"samples\": [\n          0.2,\n          1.2,\n          1.3\n        ],\n        \"semantic_type\": \"\",\n        \"description\": \"\"\n      }\n    },\n    {\n      \"column\": \"Label\",\n      \"properties\": {\n        \"dtype\": \"category\",\n        \"num_unique_values\": 3,\n        \"samples\": [\n          \"Iris-setosa\",\n          \"Iris-versicolor\",\n          \"Iris-virginica\"\n        ],\n        \"semantic_type\": \"\",\n        \"description\": \"\"\n      }\n    }\n  ]\n}"
            }
          },
          "metadata": {},
          "execution_count": 6
        }
      ]
    },
    {
      "cell_type": "markdown",
      "source": [
        "# Preparing Data"
      ],
      "metadata": {
        "id": "LSMISAYY36gV"
      }
    },
    {
      "cell_type": "code",
      "source": [
        "X = df.values[:, :-1]\n",
        "y = df.values[:, -1]\n",
        "\n",
        "X[0:4]"
      ],
      "metadata": {
        "colab": {
          "base_uri": "https://localhost:8080/"
        },
        "id": "JHDfR_cG3MkP",
        "outputId": "0aae45b7-defe-4777-91c7-83b490726535"
      },
      "execution_count": 7,
      "outputs": [
        {
          "output_type": "execute_result",
          "data": {
            "text/plain": [
              "array([[5.1, 3.5, 1.4, 0.2],\n",
              "       [4.9, 3.0, 1.4, 0.2],\n",
              "       [4.7, 3.2, 1.3, 0.2],\n",
              "       [4.6, 3.1, 1.5, 0.2]], dtype=object)"
            ]
          },
          "metadata": {},
          "execution_count": 7
        }
      ]
    },
    {
      "cell_type": "code",
      "source": [
        "X = X.astype('float32')\n",
        "X[0:4]"
      ],
      "metadata": {
        "colab": {
          "base_uri": "https://localhost:8080/"
        },
        "id": "jvl__vmn3bJd",
        "outputId": "27fb3c6e-341b-45b0-fcbe-3a7369209221"
      },
      "execution_count": 8,
      "outputs": [
        {
          "output_type": "execute_result",
          "data": {
            "text/plain": [
              "array([[5.1, 3.5, 1.4, 0.2],\n",
              "       [4.9, 3. , 1.4, 0.2],\n",
              "       [4.7, 3.2, 1.3, 0.2],\n",
              "       [4.6, 3.1, 1.5, 0.2]], dtype=float32)"
            ]
          },
          "metadata": {},
          "execution_count": 8
        }
      ]
    },
    {
      "cell_type": "code",
      "source": [
        "from sklearn.preprocessing import LabelEncoder\n",
        "y = LabelEncoder().fit_transform(y)\n",
        "y"
      ],
      "metadata": {
        "colab": {
          "base_uri": "https://localhost:8080/"
        },
        "id": "KC2DWQG13kVa",
        "outputId": "424a4a4d-7080-4ca7-e5b2-4706903af795"
      },
      "execution_count": 10,
      "outputs": [
        {
          "output_type": "execute_result",
          "data": {
            "text/plain": [
              "array([0, 0, 0, 0, 0, 0, 0, 0, 0, 0, 0, 0, 0, 0, 0, 0, 0, 0, 0, 0, 0, 0,\n",
              "       0, 0, 0, 0, 0, 0, 0, 0, 0, 0, 0, 0, 0, 0, 0, 0, 0, 0, 0, 0, 0, 0,\n",
              "       0, 0, 0, 0, 0, 0, 1, 1, 1, 1, 1, 1, 1, 1, 1, 1, 1, 1, 1, 1, 1, 1,\n",
              "       1, 1, 1, 1, 1, 1, 1, 1, 1, 1, 1, 1, 1, 1, 1, 1, 1, 1, 1, 1, 1, 1,\n",
              "       1, 1, 1, 1, 1, 1, 1, 1, 1, 1, 1, 1, 2, 2, 2, 2, 2, 2, 2, 2, 2, 2,\n",
              "       2, 2, 2, 2, 2, 2, 2, 2, 2, 2, 2, 2, 2, 2, 2, 2, 2, 2, 2, 2, 2, 2,\n",
              "       2, 2, 2, 2, 2, 2, 2, 2, 2, 2, 2, 2, 2, 2, 2, 2, 2, 2])"
            ]
          },
          "metadata": {},
          "execution_count": 10
        }
      ]
    },
    {
      "cell_type": "markdown",
      "source": [
        "### Split Data menjadi training dan testing dataset"
      ],
      "metadata": {
        "id": "gZ1W7_qb3-w1"
      }
    },
    {
      "cell_type": "code",
      "source": [
        "from sklearn.model_selection import train_test_split"
      ],
      "metadata": {
        "id": "a3lVfMcI4G0l"
      },
      "execution_count": 12,
      "outputs": []
    },
    {
      "cell_type": "code",
      "source": [
        "X_train, X_test, y_train, y_test = train_test_split(X, y, test_size=0.2, random_state=42)\n",
        "\n",
        "print('Ukuran x train :', X_train.shape)\n",
        "print('Ukuran y train :', y_train.shape)\n",
        "print()\n",
        "print('Ukuran x test :', X_test.shape)\n",
        "print('Ukuran y test :', y_test.shape)"
      ],
      "metadata": {
        "colab": {
          "base_uri": "https://localhost:8080/"
        },
        "id": "nR2nh2dE4Ll4",
        "outputId": "28b68e99-8ebf-46ab-ddb5-97cf5ce19463"
      },
      "execution_count": 13,
      "outputs": [
        {
          "output_type": "stream",
          "name": "stdout",
          "text": [
            "Ukuran x train : (120, 4)\n",
            "Ukuran y train : (120,)\n",
            "\n",
            "Ukuran x test : (30, 4)\n",
            "Ukuran y test : (30,)\n"
          ]
        }
      ]
    },
    {
      "cell_type": "markdown",
      "source": [
        "# Deep Learning Model Life-Cycle"
      ],
      "metadata": {
        "id": "PJEuONb9455n"
      }
    },
    {
      "cell_type": "markdown",
      "source": [
        "Define Model"
      ],
      "metadata": {
        "id": "3wCMAhvi5DK_"
      }
    },
    {
      "cell_type": "code",
      "source": [
        "import tensorflow as tf\n",
        "from tensorflow.keras import layers\n",
        "from tensorflow.keras import Sequential, Model, Input\n",
        "from tensorflow.keras.layers import Dense"
      ],
      "metadata": {
        "id": "bQBBAxLn44fv"
      },
      "execution_count": 14,
      "outputs": []
    },
    {
      "cell_type": "markdown",
      "source": [
        "DEFINE MODEL SEQUENTIAL API 1"
      ],
      "metadata": {
        "id": "Ws-_BPCQ505W"
      }
    },
    {
      "cell_type": "code",
      "source": [
        "model = Sequential([\n",
        "    Input(shape=(4,)),\n",
        "    Dense(3, activation='relu'),\n",
        "    Dense(3, activation='relu'),\n",
        "    Dense(3, activation='softmax'),\n",
        "], name='Sequential_API_1')"
      ],
      "metadata": {
        "id": "4oUAu3p-5XxB"
      },
      "execution_count": 15,
      "outputs": []
    },
    {
      "cell_type": "markdown",
      "source": [
        "DEFINE MODEL SEQUENTIAL API 2"
      ],
      "metadata": {
        "id": "vOAnKc1754Rt"
      }
    },
    {
      "cell_type": "code",
      "source": [
        "model = Sequential(name='Sequential_API_2')\n",
        "model.add(Input(shape=4,))\n",
        "model.add(Dense(3, activation='relu'))\n",
        "model.add(Dense(3, activation='relu'))\n",
        "model.add(Dense(3, activation='softmax'))"
      ],
      "metadata": {
        "id": "FpUMLasY5zJ_"
      },
      "execution_count": 17,
      "outputs": []
    },
    {
      "cell_type": "markdown",
      "source": [
        "DEFINE MODEL FUNCTIONAL API"
      ],
      "metadata": {
        "id": "YBThjS5Q6Y32"
      }
    },
    {
      "cell_type": "code",
      "source": [
        "input_layer = Input(shape=(4,))\n",
        "hid_layer_1 = Dense(3, activation='relu')(input_layer)\n",
        "hid_layer_2 = Dense(3, activation='relu')(hid_layer_1)\n",
        "output_layer = Dense(3, activation='softmax')(hid_layer_2)\n",
        "\n",
        "model = Model(inputs=input_layer, outputs=output_layer, name='Functional_API')"
      ],
      "metadata": {
        "id": "jituPS2m6dFX"
      },
      "execution_count": 18,
      "outputs": []
    },
    {
      "cell_type": "markdown",
      "source": [
        "Model Text Decsription"
      ],
      "metadata": {
        "id": "PKsVyG6V-IGM"
      }
    },
    {
      "cell_type": "code",
      "source": [
        "model.summary()"
      ],
      "metadata": {
        "colab": {
          "base_uri": "https://localhost:8080/"
        },
        "id": "CDeQ9dmN-Gku",
        "outputId": "db80e9e8-e3cb-4f95-f5d3-1cf8b8bd5810"
      },
      "execution_count": 19,
      "outputs": [
        {
          "output_type": "stream",
          "name": "stdout",
          "text": [
            "Model: \"Functional_API\"\n",
            "_________________________________________________________________\n",
            " Layer (type)                Output Shape              Param #   \n",
            "=================================================================\n",
            " input_3 (InputLayer)        [(None, 4)]               0         \n",
            "                                                                 \n",
            " dense_6 (Dense)             (None, 3)                 15        \n",
            "                                                                 \n",
            " dense_7 (Dense)             (None, 3)                 12        \n",
            "                                                                 \n",
            " dense_8 (Dense)             (None, 3)                 12        \n",
            "                                                                 \n",
            "=================================================================\n",
            "Total params: 39 (156.00 Byte)\n",
            "Trainable params: 39 (156.00 Byte)\n",
            "Non-trainable params: 0 (0.00 Byte)\n",
            "_________________________________________________________________\n"
          ]
        }
      ]
    },
    {
      "cell_type": "markdown",
      "source": [
        "Model Architecture Plot"
      ],
      "metadata": {
        "id": "B9-DUmBT-PYB"
      }
    },
    {
      "cell_type": "code",
      "source": [
        "from tensorflow.keras.utils import plot_model"
      ],
      "metadata": {
        "id": "RQT9O2XF90L1"
      },
      "execution_count": 20,
      "outputs": []
    },
    {
      "cell_type": "code",
      "source": [
        "plot_model(model, 'model.png', show_shapes=True)"
      ],
      "metadata": {
        "colab": {
          "base_uri": "https://localhost:8080/",
          "height": 422
        },
        "id": "M8Nnik_G-YzC",
        "outputId": "a128b959-33ba-4c1d-bafc-ce1a7e69cb33"
      },
      "execution_count": 21,
      "outputs": [
        {
          "output_type": "execute_result",
          "data": {
            "image/png": "[encoded data removed]",
            "text/plain": [
              "<IPython.core.display.Image object>"
            ]
          },
          "metadata": {},
          "execution_count": 21
        }
      ]
    },
    {
      "cell_type": "markdown",
      "source": [
        "Compile model"
      ],
      "metadata": {
        "id": "fS31qeDU-f2D"
      }
    },
    {
      "cell_type": "code",
      "source": [
        "from tensorflow.keras.optimizers import Adam\n",
        "from tensorflow.keras.losses import SparseCategoricalCrossentropy"
      ],
      "metadata": {
        "id": "OY16DX_D-ixc"
      },
      "execution_count": 22,
      "outputs": []
    },
    {
      "cell_type": "code",
      "source": [
        "model.compile(\n",
        "    optimizer = Adam(learning_rate=0.001),\n",
        "    loss = SparseCategoricalCrossentropy(),\n",
        "    metrics =['Accuracy']\n",
        ")"
      ],
      "metadata": {
        "id": "4Bmr51GS-1GR"
      },
      "execution_count": 23,
      "outputs": []
    },
    {
      "cell_type": "code",
      "source": [
        "hits = model.fit(\n",
        "    x = X_train,\n",
        "    y = y_train,\n",
        "    validation_data = (X_test, y_test),\n",
        "    batch_size = 32,\n",
        "    epochs = 200,\n",
        "    verbose = 2\n",
        ")"
      ],
      "metadata": {
        "colab": {
          "base_uri": "https://localhost:8080/"
        },
        "id": "ipBYb7aC_FDu",
        "outputId": "40cc347c-920c-4025-c9c1-affaa4577097"
      },
      "execution_count": 24,
      "outputs": [
        {
          "output_type": "stream",
          "name": "stdout",
          "text": [
            "Epoch 1/200\n",
            "4/4 - 2s - loss: 1.2775 - Accuracy: 0.3250 - val_loss: 1.2696 - val_Accuracy: 0.3667 - 2s/epoch - 397ms/step\n",
            "Epoch 2/200\n",
            "4/4 - 0s - loss: 1.2677 - Accuracy: 0.3250 - val_loss: 1.2614 - val_Accuracy: 0.3667 - 76ms/epoch - 19ms/step\n",
            "Epoch 3/200\n",
            "4/4 - 0s - loss: 1.2597 - Accuracy: 0.3250 - val_loss: 1.2532 - val_Accuracy: 0.3667 - 76ms/epoch - 19ms/step\n",
            "Epoch 4/200\n",
            "4/4 - 0s - loss: 1.2515 - Accuracy: 0.3250 - val_loss: 1.2453 - val_Accuracy: 0.3667 - 67ms/epoch - 17ms/step\n",
            "Epoch 5/200\n",
            "4/4 - 0s - loss: 1.2440 - Accuracy: 0.3250 - val_loss: 1.2378 - val_Accuracy: 0.3667 - 60ms/epoch - 15ms/step\n",
            "Epoch 6/200\n",
            "4/4 - 0s - loss: 1.2366 - Accuracy: 0.3250 - val_loss: 1.2306 - val_Accuracy: 0.3667 - 92ms/epoch - 23ms/step\n",
            "Epoch 7/200\n",
            "4/4 - 0s - loss: 1.2296 - Accuracy: 0.3250 - val_loss: 1.2239 - val_Accuracy: 0.3667 - 339ms/epoch - 85ms/step\n",
            "Epoch 8/200\n",
            "4/4 - 0s - loss: 1.2224 - Accuracy: 0.3167 - val_loss: 1.2177 - val_Accuracy: 0.3667 - 62ms/epoch - 16ms/step\n",
            "Epoch 9/200\n",
            "4/4 - 0s - loss: 1.2163 - Accuracy: 0.3083 - val_loss: 1.2118 - val_Accuracy: 0.3667 - 63ms/epoch - 16ms/step\n",
            "Epoch 10/200\n",
            "4/4 - 0s - loss: 1.2118 - Accuracy: 0.3083 - val_loss: 1.2062 - val_Accuracy: 0.3667 - 81ms/epoch - 20ms/step\n",
            "Epoch 11/200\n",
            "4/4 - 0s - loss: 1.2052 - Accuracy: 0.3000 - val_loss: 1.2011 - val_Accuracy: 0.3667 - 69ms/epoch - 17ms/step\n",
            "Epoch 12/200\n",
            "4/4 - 0s - loss: 1.2000 - Accuracy: 0.3000 - val_loss: 1.1963 - val_Accuracy: 0.3667 - 63ms/epoch - 16ms/step\n",
            "Epoch 13/200\n",
            "4/4 - 0s - loss: 1.1950 - Accuracy: 0.2833 - val_loss: 1.1917 - val_Accuracy: 0.3667 - 85ms/epoch - 21ms/step\n",
            "Epoch 14/200\n",
            "4/4 - 0s - loss: 1.1914 - Accuracy: 0.2500 - val_loss: 1.1871 - val_Accuracy: 0.3333 - 72ms/epoch - 18ms/step\n",
            "Epoch 15/200\n",
            "4/4 - 0s - loss: 1.1864 - Accuracy: 0.2417 - val_loss: 1.1829 - val_Accuracy: 0.2667 - 319ms/epoch - 80ms/step\n",
            "Epoch 16/200\n",
            "4/4 - 0s - loss: 1.1827 - Accuracy: 0.2417 - val_loss: 1.1787 - val_Accuracy: 0.2667 - 168ms/epoch - 42ms/step\n",
            "Epoch 17/200\n",
            "4/4 - 0s - loss: 1.1781 - Accuracy: 0.2333 - val_loss: 1.1749 - val_Accuracy: 0.1667 - 79ms/epoch - 20ms/step\n",
            "Epoch 18/200\n",
            "4/4 - 0s - loss: 1.1744 - Accuracy: 0.2250 - val_loss: 1.1712 - val_Accuracy: 0.1667 - 80ms/epoch - 20ms/step\n",
            "Epoch 19/200\n",
            "4/4 - 0s - loss: 1.1707 - Accuracy: 0.1917 - val_loss: 1.1677 - val_Accuracy: 0.2000 - 78ms/epoch - 19ms/step\n",
            "Epoch 20/200\n",
            "4/4 - 0s - loss: 1.1670 - Accuracy: 0.1667 - val_loss: 1.1643 - val_Accuracy: 0.2333 - 79ms/epoch - 20ms/step\n",
            "Epoch 21/200\n",
            "4/4 - 0s - loss: 1.1637 - Accuracy: 0.2000 - val_loss: 1.1610 - val_Accuracy: 0.2333 - 57ms/epoch - 14ms/step\n",
            "Epoch 22/200\n",
            "4/4 - 0s - loss: 1.1608 - Accuracy: 0.2167 - val_loss: 1.1577 - val_Accuracy: 0.2333 - 57ms/epoch - 14ms/step\n",
            "Epoch 23/200\n",
            "4/4 - 0s - loss: 1.1572 - Accuracy: 0.2167 - val_loss: 1.1546 - val_Accuracy: 0.2667 - 69ms/epoch - 17ms/step\n",
            "Epoch 24/200\n",
            "4/4 - 0s - loss: 1.1543 - Accuracy: 0.2167 - val_loss: 1.1516 - val_Accuracy: 0.3000 - 175ms/epoch - 44ms/step\n",
            "Epoch 25/200\n",
            "4/4 - 0s - loss: 1.1514 - Accuracy: 0.2250 - val_loss: 1.1488 - val_Accuracy: 0.3333 - 51ms/epoch - 13ms/step\n",
            "Epoch 26/200\n",
            "4/4 - 0s - loss: 1.1485 - Accuracy: 0.2417 - val_loss: 1.1460 - val_Accuracy: 0.3000 - 58ms/epoch - 14ms/step\n",
            "Epoch 27/200\n",
            "4/4 - 0s - loss: 1.1458 - Accuracy: 0.3000 - val_loss: 1.1433 - val_Accuracy: 0.3000 - 40ms/epoch - 10ms/step\n",
            "Epoch 28/200\n",
            "4/4 - 0s - loss: 1.1431 - Accuracy: 0.3083 - val_loss: 1.1408 - val_Accuracy: 0.3000 - 40ms/epoch - 10ms/step\n",
            "Epoch 29/200\n",
            "4/4 - 0s - loss: 1.1407 - Accuracy: 0.3250 - val_loss: 1.1383 - val_Accuracy: 0.3000 - 39ms/epoch - 10ms/step\n",
            "Epoch 30/200\n",
            "4/4 - 0s - loss: 1.1382 - Accuracy: 0.3250 - val_loss: 1.1358 - val_Accuracy: 0.3000 - 62ms/epoch - 15ms/step\n",
            "Epoch 31/200\n",
            "4/4 - 0s - loss: 1.1358 - Accuracy: 0.3250 - val_loss: 1.1335 - val_Accuracy: 0.3000 - 38ms/epoch - 9ms/step\n",
            "Epoch 32/200\n",
            "4/4 - 0s - loss: 1.1335 - Accuracy: 0.3417 - val_loss: 1.1312 - val_Accuracy: 0.3000 - 39ms/epoch - 10ms/step\n",
            "Epoch 33/200\n",
            "4/4 - 0s - loss: 1.1313 - Accuracy: 0.3417 - val_loss: 1.1289 - val_Accuracy: 0.3000 - 44ms/epoch - 11ms/step\n",
            "Epoch 34/200\n",
            "4/4 - 0s - loss: 1.1290 - Accuracy: 0.3417 - val_loss: 1.1268 - val_Accuracy: 0.3000 - 42ms/epoch - 10ms/step\n",
            "Epoch 35/200\n",
            "4/4 - 0s - loss: 1.1269 - Accuracy: 0.3417 - val_loss: 1.1246 - val_Accuracy: 0.3000 - 39ms/epoch - 10ms/step\n",
            "Epoch 36/200\n",
            "4/4 - 0s - loss: 1.1249 - Accuracy: 0.3417 - val_loss: 1.1226 - val_Accuracy: 0.3000 - 42ms/epoch - 11ms/step\n",
            "Epoch 37/200\n",
            "4/4 - 0s - loss: 1.1228 - Accuracy: 0.3417 - val_loss: 1.1206 - val_Accuracy: 0.3000 - 39ms/epoch - 10ms/step\n",
            "Epoch 38/200\n",
            "4/4 - 0s - loss: 1.1209 - Accuracy: 0.3417 - val_loss: 1.1187 - val_Accuracy: 0.3000 - 44ms/epoch - 11ms/step\n",
            "Epoch 39/200\n",
            "4/4 - 0s - loss: 1.1191 - Accuracy: 0.3417 - val_loss: 1.1168 - val_Accuracy: 0.3000 - 46ms/epoch - 12ms/step\n",
            "Epoch 40/200\n",
            "4/4 - 0s - loss: 1.1172 - Accuracy: 0.3417 - val_loss: 1.1150 - val_Accuracy: 0.3000 - 42ms/epoch - 10ms/step\n",
            "Epoch 41/200\n",
            "4/4 - 0s - loss: 1.1155 - Accuracy: 0.3417 - val_loss: 1.1132 - val_Accuracy: 0.3000 - 44ms/epoch - 11ms/step\n",
            "Epoch 42/200\n",
            "4/4 - 0s - loss: 1.1138 - Accuracy: 0.3417 - val_loss: 1.1114 - val_Accuracy: 0.3000 - 38ms/epoch - 9ms/step\n",
            "Epoch 43/200\n",
            "4/4 - 0s - loss: 1.1121 - Accuracy: 0.3417 - val_loss: 1.1097 - val_Accuracy: 0.3000 - 41ms/epoch - 10ms/step\n",
            "Epoch 44/200\n",
            "4/4 - 0s - loss: 1.1103 - Accuracy: 0.3417 - val_loss: 1.1080 - val_Accuracy: 0.3000 - 41ms/epoch - 10ms/step\n",
            "Epoch 45/200\n",
            "4/4 - 0s - loss: 1.1087 - Accuracy: 0.3417 - val_loss: 1.1064 - val_Accuracy: 0.3000 - 59ms/epoch - 15ms/step\n",
            "Epoch 46/200\n",
            "4/4 - 0s - loss: 1.1071 - Accuracy: 0.3417 - val_loss: 1.1049 - val_Accuracy: 0.3000 - 38ms/epoch - 9ms/step\n",
            "Epoch 47/200\n",
            "4/4 - 0s - loss: 1.1056 - Accuracy: 0.3417 - val_loss: 1.1033 - val_Accuracy: 0.3000 - 39ms/epoch - 10ms/step\n",
            "Epoch 48/200\n",
            "4/4 - 0s - loss: 1.1041 - Accuracy: 0.3417 - val_loss: 1.1017 - val_Accuracy: 0.3000 - 39ms/epoch - 10ms/step\n",
            "Epoch 49/200\n",
            "4/4 - 0s - loss: 1.1026 - Accuracy: 0.3417 - val_loss: 1.1002 - val_Accuracy: 0.3000 - 58ms/epoch - 15ms/step\n",
            "Epoch 50/200\n",
            "4/4 - 0s - loss: 1.1011 - Accuracy: 0.3417 - val_loss: 1.0987 - val_Accuracy: 0.3000 - 47ms/epoch - 12ms/step\n",
            "Epoch 51/200\n",
            "4/4 - 0s - loss: 1.0996 - Accuracy: 0.3417 - val_loss: 1.0973 - val_Accuracy: 0.3000 - 40ms/epoch - 10ms/step\n",
            "Epoch 52/200\n",
            "4/4 - 0s - loss: 1.0981 - Accuracy: 0.3417 - val_loss: 1.0959 - val_Accuracy: 0.3000 - 39ms/epoch - 10ms/step\n",
            "Epoch 53/200\n",
            "4/4 - 0s - loss: 1.0968 - Accuracy: 0.3417 - val_loss: 1.0944 - val_Accuracy: 0.3000 - 39ms/epoch - 10ms/step\n",
            "Epoch 54/200\n",
            "4/4 - 0s - loss: 1.0954 - Accuracy: 0.3417 - val_loss: 1.0930 - val_Accuracy: 0.3000 - 39ms/epoch - 10ms/step\n",
            "Epoch 55/200\n",
            "4/4 - 0s - loss: 1.0940 - Accuracy: 0.3417 - val_loss: 1.0915 - val_Accuracy: 0.3000 - 40ms/epoch - 10ms/step\n",
            "Epoch 56/200\n",
            "4/4 - 0s - loss: 1.0926 - Accuracy: 0.3417 - val_loss: 1.0902 - val_Accuracy: 0.3000 - 38ms/epoch - 10ms/step\n",
            "Epoch 57/200\n",
            "4/4 - 0s - loss: 1.0912 - Accuracy: 0.3417 - val_loss: 1.0888 - val_Accuracy: 0.3000 - 42ms/epoch - 11ms/step\n",
            "Epoch 58/200\n",
            "4/4 - 0s - loss: 1.0898 - Accuracy: 0.3417 - val_loss: 1.0875 - val_Accuracy: 0.3000 - 58ms/epoch - 14ms/step\n",
            "Epoch 59/200\n",
            "4/4 - 0s - loss: 1.0885 - Accuracy: 0.3417 - val_loss: 1.0861 - val_Accuracy: 0.3000 - 59ms/epoch - 15ms/step\n",
            "Epoch 60/200\n",
            "4/4 - 0s - loss: 1.0872 - Accuracy: 0.3417 - val_loss: 1.0847 - val_Accuracy: 0.3000 - 48ms/epoch - 12ms/step\n",
            "Epoch 61/200\n",
            "4/4 - 0s - loss: 1.0858 - Accuracy: 0.3417 - val_loss: 1.0833 - val_Accuracy: 0.3000 - 59ms/epoch - 15ms/step\n",
            "Epoch 62/200\n",
            "4/4 - 0s - loss: 1.0845 - Accuracy: 0.3417 - val_loss: 1.0820 - val_Accuracy: 0.3000 - 59ms/epoch - 15ms/step\n",
            "Epoch 63/200\n",
            "4/4 - 0s - loss: 1.0831 - Accuracy: 0.3417 - val_loss: 1.0806 - val_Accuracy: 0.3000 - 41ms/epoch - 10ms/step\n",
            "Epoch 64/200\n",
            "4/4 - 0s - loss: 1.0818 - Accuracy: 0.3417 - val_loss: 1.0792 - val_Accuracy: 0.3000 - 40ms/epoch - 10ms/step\n",
            "Epoch 65/200\n",
            "4/4 - 0s - loss: 1.0805 - Accuracy: 0.3417 - val_loss: 1.0778 - val_Accuracy: 0.3000 - 41ms/epoch - 10ms/step\n",
            "Epoch 66/200\n",
            "4/4 - 0s - loss: 1.0792 - Accuracy: 0.3417 - val_loss: 1.0765 - val_Accuracy: 0.3000 - 38ms/epoch - 10ms/step\n",
            "Epoch 67/200\n",
            "4/4 - 0s - loss: 1.0778 - Accuracy: 0.3417 - val_loss: 1.0751 - val_Accuracy: 0.3000 - 58ms/epoch - 14ms/step\n",
            "Epoch 68/200\n",
            "4/4 - 0s - loss: 1.0764 - Accuracy: 0.3417 - val_loss: 1.0736 - val_Accuracy: 0.3000 - 41ms/epoch - 10ms/step\n",
            "Epoch 69/200\n",
            "4/4 - 0s - loss: 1.0751 - Accuracy: 0.3500 - val_loss: 1.0722 - val_Accuracy: 0.3333 - 40ms/epoch - 10ms/step\n",
            "Epoch 70/200\n",
            "4/4 - 0s - loss: 1.0737 - Accuracy: 0.3500 - val_loss: 1.0706 - val_Accuracy: 0.4000 - 41ms/epoch - 10ms/step\n",
            "Epoch 71/200\n",
            "4/4 - 0s - loss: 1.0722 - Accuracy: 0.3833 - val_loss: 1.0691 - val_Accuracy: 0.4000 - 41ms/epoch - 10ms/step\n",
            "Epoch 72/200\n",
            "4/4 - 0s - loss: 1.0708 - Accuracy: 0.4000 - val_loss: 1.0676 - val_Accuracy: 0.4333 - 61ms/epoch - 15ms/step\n",
            "Epoch 73/200\n",
            "4/4 - 0s - loss: 1.0693 - Accuracy: 0.4333 - val_loss: 1.0660 - val_Accuracy: 0.4667 - 60ms/epoch - 15ms/step\n",
            "Epoch 74/200\n",
            "4/4 - 0s - loss: 1.0679 - Accuracy: 0.4583 - val_loss: 1.0644 - val_Accuracy: 0.4333 - 39ms/epoch - 10ms/step\n",
            "Epoch 75/200\n",
            "4/4 - 0s - loss: 1.0664 - Accuracy: 0.4417 - val_loss: 1.0628 - val_Accuracy: 0.5667 - 61ms/epoch - 15ms/step\n",
            "Epoch 76/200\n",
            "4/4 - 0s - loss: 1.0649 - Accuracy: 0.4417 - val_loss: 1.0611 - val_Accuracy: 0.5667 - 60ms/epoch - 15ms/step\n",
            "Epoch 77/200\n",
            "4/4 - 0s - loss: 1.0633 - Accuracy: 0.4917 - val_loss: 1.0594 - val_Accuracy: 0.5667 - 42ms/epoch - 11ms/step\n",
            "Epoch 78/200\n",
            "4/4 - 0s - loss: 1.0617 - Accuracy: 0.4917 - val_loss: 1.0577 - val_Accuracy: 0.5667 - 44ms/epoch - 11ms/step\n",
            "Epoch 79/200\n",
            "4/4 - 0s - loss: 1.0601 - Accuracy: 0.4750 - val_loss: 1.0559 - val_Accuracy: 0.5000 - 60ms/epoch - 15ms/step\n",
            "Epoch 80/200\n",
            "4/4 - 0s - loss: 1.0584 - Accuracy: 0.4917 - val_loss: 1.0541 - val_Accuracy: 0.4667 - 41ms/epoch - 10ms/step\n",
            "Epoch 81/200\n",
            "4/4 - 0s - loss: 1.0567 - Accuracy: 0.4833 - val_loss: 1.0523 - val_Accuracy: 0.4667 - 41ms/epoch - 10ms/step\n",
            "Epoch 82/200\n",
            "4/4 - 0s - loss: 1.0550 - Accuracy: 0.4750 - val_loss: 1.0504 - val_Accuracy: 0.3667 - 40ms/epoch - 10ms/step\n",
            "Epoch 83/200\n",
            "4/4 - 0s - loss: 1.0533 - Accuracy: 0.4083 - val_loss: 1.0484 - val_Accuracy: 0.3667 - 38ms/epoch - 10ms/step\n",
            "Epoch 84/200\n",
            "4/4 - 0s - loss: 1.0514 - Accuracy: 0.4083 - val_loss: 1.0464 - val_Accuracy: 0.3667 - 61ms/epoch - 15ms/step\n",
            "Epoch 85/200\n",
            "4/4 - 0s - loss: 1.0496 - Accuracy: 0.3917 - val_loss: 1.0444 - val_Accuracy: 0.3667 - 39ms/epoch - 10ms/step\n",
            "Epoch 86/200\n",
            "4/4 - 0s - loss: 1.0477 - Accuracy: 0.4083 - val_loss: 1.0424 - val_Accuracy: 0.3667 - 39ms/epoch - 10ms/step\n",
            "Epoch 87/200\n",
            "4/4 - 0s - loss: 1.0456 - Accuracy: 0.4167 - val_loss: 1.0403 - val_Accuracy: 0.3667 - 60ms/epoch - 15ms/step\n",
            "Epoch 88/200\n",
            "4/4 - 0s - loss: 1.0437 - Accuracy: 0.4250 - val_loss: 1.0382 - val_Accuracy: 0.4000 - 43ms/epoch - 11ms/step\n",
            "Epoch 89/200\n",
            "4/4 - 0s - loss: 1.0416 - Accuracy: 0.4500 - val_loss: 1.0359 - val_Accuracy: 0.4000 - 41ms/epoch - 10ms/step\n",
            "Epoch 90/200\n",
            "4/4 - 0s - loss: 1.0396 - Accuracy: 0.4417 - val_loss: 1.0336 - val_Accuracy: 0.4000 - 42ms/epoch - 11ms/step\n",
            "Epoch 91/200\n",
            "4/4 - 0s - loss: 1.0373 - Accuracy: 0.4417 - val_loss: 1.0312 - val_Accuracy: 0.5000 - 43ms/epoch - 11ms/step\n",
            "Epoch 92/200\n",
            "4/4 - 0s - loss: 1.0351 - Accuracy: 0.4667 - val_loss: 1.0287 - val_Accuracy: 0.5333 - 64ms/epoch - 16ms/step\n",
            "Epoch 93/200\n",
            "4/4 - 0s - loss: 1.0327 - Accuracy: 0.4667 - val_loss: 1.0262 - val_Accuracy: 0.5333 - 61ms/epoch - 15ms/step\n",
            "Epoch 94/200\n",
            "4/4 - 0s - loss: 1.0302 - Accuracy: 0.5000 - val_loss: 1.0236 - val_Accuracy: 0.5333 - 40ms/epoch - 10ms/step\n",
            "Epoch 95/200\n",
            "4/4 - 0s - loss: 1.0277 - Accuracy: 0.5167 - val_loss: 1.0209 - val_Accuracy: 0.5667 - 41ms/epoch - 10ms/step\n",
            "Epoch 96/200\n",
            "4/4 - 0s - loss: 1.0252 - Accuracy: 0.5417 - val_loss: 1.0181 - val_Accuracy: 0.5667 - 39ms/epoch - 10ms/step\n",
            "Epoch 97/200\n",
            "4/4 - 0s - loss: 1.0224 - Accuracy: 0.5667 - val_loss: 1.0153 - val_Accuracy: 0.6000 - 39ms/epoch - 10ms/step\n",
            "Epoch 98/200\n",
            "4/4 - 0s - loss: 1.0197 - Accuracy: 0.5750 - val_loss: 1.0124 - val_Accuracy: 0.6000 - 45ms/epoch - 11ms/step\n",
            "Epoch 99/200\n",
            "4/4 - 0s - loss: 1.0169 - Accuracy: 0.6000 - val_loss: 1.0093 - val_Accuracy: 0.6000 - 40ms/epoch - 10ms/step\n",
            "Epoch 100/200\n",
            "4/4 - 0s - loss: 1.0141 - Accuracy: 0.6083 - val_loss: 1.0062 - val_Accuracy: 0.6000 - 51ms/epoch - 13ms/step\n",
            "Epoch 101/200\n",
            "4/4 - 0s - loss: 1.0109 - Accuracy: 0.6333 - val_loss: 1.0029 - val_Accuracy: 0.6000 - 41ms/epoch - 10ms/step\n",
            "Epoch 102/200\n",
            "4/4 - 0s - loss: 1.0079 - Accuracy: 0.6500 - val_loss: 0.9995 - val_Accuracy: 0.6333 - 43ms/epoch - 11ms/step\n",
            "Epoch 103/200\n",
            "4/4 - 0s - loss: 1.0045 - Accuracy: 0.6500 - val_loss: 0.9960 - val_Accuracy: 0.6333 - 59ms/epoch - 15ms/step\n",
            "Epoch 104/200\n",
            "4/4 - 0s - loss: 1.0012 - Accuracy: 0.6500 - val_loss: 0.9925 - val_Accuracy: 0.6667 - 39ms/epoch - 10ms/step\n",
            "Epoch 105/200\n",
            "4/4 - 0s - loss: 0.9977 - Accuracy: 0.6583 - val_loss: 0.9889 - val_Accuracy: 0.6667 - 61ms/epoch - 15ms/step\n",
            "Epoch 106/200\n",
            "4/4 - 0s - loss: 0.9940 - Accuracy: 0.6583 - val_loss: 0.9851 - val_Accuracy: 0.7000 - 39ms/epoch - 10ms/step\n",
            "Epoch 107/200\n",
            "4/4 - 0s - loss: 0.9903 - Accuracy: 0.6583 - val_loss: 0.9811 - val_Accuracy: 0.7000 - 57ms/epoch - 14ms/step\n",
            "Epoch 108/200\n",
            "4/4 - 0s - loss: 0.9866 - Accuracy: 0.6583 - val_loss: 0.9769 - val_Accuracy: 0.7000 - 42ms/epoch - 10ms/step\n",
            "Epoch 109/200\n",
            "4/4 - 0s - loss: 0.9825 - Accuracy: 0.6583 - val_loss: 0.9727 - val_Accuracy: 0.7000 - 60ms/epoch - 15ms/step\n",
            "Epoch 110/200\n",
            "4/4 - 0s - loss: 0.9785 - Accuracy: 0.6583 - val_loss: 0.9682 - val_Accuracy: 0.7000 - 58ms/epoch - 14ms/step\n",
            "Epoch 111/200\n",
            "4/4 - 0s - loss: 0.9741 - Accuracy: 0.6583 - val_loss: 0.9638 - val_Accuracy: 0.7000 - 58ms/epoch - 15ms/step\n",
            "Epoch 112/200\n",
            "4/4 - 0s - loss: 0.9698 - Accuracy: 0.6583 - val_loss: 0.9590 - val_Accuracy: 0.7000 - 38ms/epoch - 10ms/step\n",
            "Epoch 113/200\n",
            "4/4 - 0s - loss: 0.9652 - Accuracy: 0.6583 - val_loss: 0.9542 - val_Accuracy: 0.7000 - 63ms/epoch - 16ms/step\n",
            "Epoch 114/200\n",
            "4/4 - 0s - loss: 0.9604 - Accuracy: 0.6583 - val_loss: 0.9493 - val_Accuracy: 0.7000 - 39ms/epoch - 10ms/step\n",
            "Epoch 115/200\n",
            "4/4 - 0s - loss: 0.9557 - Accuracy: 0.6583 - val_loss: 0.9441 - val_Accuracy: 0.7000 - 56ms/epoch - 14ms/step\n",
            "Epoch 116/200\n",
            "4/4 - 0s - loss: 0.9506 - Accuracy: 0.6583 - val_loss: 0.9388 - val_Accuracy: 0.7000 - 42ms/epoch - 10ms/step\n",
            "Epoch 117/200\n",
            "4/4 - 0s - loss: 0.9455 - Accuracy: 0.6583 - val_loss: 0.9333 - val_Accuracy: 0.7000 - 40ms/epoch - 10ms/step\n",
            "Epoch 118/200\n",
            "4/4 - 0s - loss: 0.9400 - Accuracy: 0.6583 - val_loss: 0.9280 - val_Accuracy: 0.7000 - 57ms/epoch - 14ms/step\n",
            "Epoch 119/200\n",
            "4/4 - 0s - loss: 0.9348 - Accuracy: 0.6583 - val_loss: 0.9224 - val_Accuracy: 0.7000 - 46ms/epoch - 11ms/step\n",
            "Epoch 120/200\n",
            "4/4 - 0s - loss: 0.9296 - Accuracy: 0.6583 - val_loss: 0.9165 - val_Accuracy: 0.7000 - 57ms/epoch - 14ms/step\n",
            "Epoch 121/200\n",
            "4/4 - 0s - loss: 0.9240 - Accuracy: 0.6583 - val_loss: 0.9107 - val_Accuracy: 0.7000 - 45ms/epoch - 11ms/step\n",
            "Epoch 122/200\n",
            "4/4 - 0s - loss: 0.9189 - Accuracy: 0.6583 - val_loss: 0.9049 - val_Accuracy: 0.7000 - 39ms/epoch - 10ms/step\n",
            "Epoch 123/200\n",
            "4/4 - 0s - loss: 0.9131 - Accuracy: 0.6583 - val_loss: 0.8989 - val_Accuracy: 0.7000 - 39ms/epoch - 10ms/step\n",
            "Epoch 124/200\n",
            "4/4 - 0s - loss: 0.9076 - Accuracy: 0.6583 - val_loss: 0.8928 - val_Accuracy: 0.7000 - 55ms/epoch - 14ms/step\n",
            "Epoch 125/200\n",
            "4/4 - 0s - loss: 0.9021 - Accuracy: 0.6583 - val_loss: 0.8868 - val_Accuracy: 0.7000 - 39ms/epoch - 10ms/step\n",
            "Epoch 126/200\n",
            "4/4 - 0s - loss: 0.8964 - Accuracy: 0.6583 - val_loss: 0.8809 - val_Accuracy: 0.7000 - 57ms/epoch - 14ms/step\n",
            "Epoch 127/200\n",
            "4/4 - 0s - loss: 0.8911 - Accuracy: 0.6583 - val_loss: 0.8751 - val_Accuracy: 0.7000 - 40ms/epoch - 10ms/step\n",
            "Epoch 128/200\n",
            "4/4 - 0s - loss: 0.8853 - Accuracy: 0.6583 - val_loss: 0.8694 - val_Accuracy: 0.7000 - 38ms/epoch - 9ms/step\n",
            "Epoch 129/200\n",
            "4/4 - 0s - loss: 0.8802 - Accuracy: 0.6583 - val_loss: 0.8638 - val_Accuracy: 0.7000 - 56ms/epoch - 14ms/step\n",
            "Epoch 130/200\n",
            "4/4 - 0s - loss: 0.8746 - Accuracy: 0.6583 - val_loss: 0.8582 - val_Accuracy: 0.7000 - 41ms/epoch - 10ms/step\n",
            "Epoch 131/200\n",
            "4/4 - 0s - loss: 0.8694 - Accuracy: 0.6583 - val_loss: 0.8527 - val_Accuracy: 0.7000 - 40ms/epoch - 10ms/step\n",
            "Epoch 132/200\n",
            "4/4 - 0s - loss: 0.8642 - Accuracy: 0.6583 - val_loss: 0.8468 - val_Accuracy: 0.7000 - 58ms/epoch - 15ms/step\n",
            "Epoch 133/200\n",
            "4/4 - 0s - loss: 0.8588 - Accuracy: 0.6583 - val_loss: 0.8418 - val_Accuracy: 0.7000 - 42ms/epoch - 10ms/step\n",
            "Epoch 134/200\n",
            "4/4 - 0s - loss: 0.8539 - Accuracy: 0.6583 - val_loss: 0.8367 - val_Accuracy: 0.7000 - 40ms/epoch - 10ms/step\n",
            "Epoch 135/200\n",
            "4/4 - 0s - loss: 0.8490 - Accuracy: 0.6583 - val_loss: 0.8318 - val_Accuracy: 0.7000 - 39ms/epoch - 10ms/step\n",
            "Epoch 136/200\n",
            "4/4 - 0s - loss: 0.8445 - Accuracy: 0.6583 - val_loss: 0.8278 - val_Accuracy: 0.7000 - 58ms/epoch - 15ms/step\n",
            "Epoch 137/200\n",
            "4/4 - 0s - loss: 0.8398 - Accuracy: 0.6583 - val_loss: 0.8235 - val_Accuracy: 0.7000 - 39ms/epoch - 10ms/step\n",
            "Epoch 138/200\n",
            "4/4 - 0s - loss: 0.8353 - Accuracy: 0.6583 - val_loss: 0.8189 - val_Accuracy: 0.7000 - 41ms/epoch - 10ms/step\n",
            "Epoch 139/200\n",
            "4/4 - 0s - loss: 0.8307 - Accuracy: 0.6583 - val_loss: 0.8141 - val_Accuracy: 0.7000 - 48ms/epoch - 12ms/step\n",
            "Epoch 140/200\n",
            "4/4 - 0s - loss: 0.8265 - Accuracy: 0.6583 - val_loss: 0.8096 - val_Accuracy: 0.7000 - 58ms/epoch - 15ms/step\n",
            "Epoch 141/200\n",
            "4/4 - 0s - loss: 0.8225 - Accuracy: 0.6583 - val_loss: 0.8052 - val_Accuracy: 0.7000 - 42ms/epoch - 10ms/step\n",
            "Epoch 142/200\n",
            "4/4 - 0s - loss: 0.8181 - Accuracy: 0.6583 - val_loss: 0.8013 - val_Accuracy: 0.7000 - 44ms/epoch - 11ms/step\n",
            "Epoch 143/200\n",
            "4/4 - 0s - loss: 0.8141 - Accuracy: 0.6583 - val_loss: 0.7973 - val_Accuracy: 0.7000 - 39ms/epoch - 10ms/step\n",
            "Epoch 144/200\n",
            "4/4 - 0s - loss: 0.8101 - Accuracy: 0.6583 - val_loss: 0.7933 - val_Accuracy: 0.7000 - 59ms/epoch - 15ms/step\n",
            "Epoch 145/200\n",
            "4/4 - 0s - loss: 0.8062 - Accuracy: 0.6583 - val_loss: 0.7892 - val_Accuracy: 0.7000 - 41ms/epoch - 10ms/step\n",
            "Epoch 146/200\n",
            "4/4 - 0s - loss: 0.8024 - Accuracy: 0.6583 - val_loss: 0.7855 - val_Accuracy: 0.7000 - 39ms/epoch - 10ms/step\n",
            "Epoch 147/200\n",
            "4/4 - 0s - loss: 0.7986 - Accuracy: 0.6583 - val_loss: 0.7819 - val_Accuracy: 0.7000 - 58ms/epoch - 14ms/step\n",
            "Epoch 148/200\n",
            "4/4 - 0s - loss: 0.7948 - Accuracy: 0.6583 - val_loss: 0.7782 - val_Accuracy: 0.7000 - 43ms/epoch - 11ms/step\n",
            "Epoch 149/200\n",
            "4/4 - 0s - loss: 0.7912 - Accuracy: 0.6583 - val_loss: 0.7742 - val_Accuracy: 0.7000 - 43ms/epoch - 11ms/step\n",
            "Epoch 150/200\n",
            "4/4 - 0s - loss: 0.7876 - Accuracy: 0.6583 - val_loss: 0.7704 - val_Accuracy: 0.7000 - 42ms/epoch - 11ms/step\n",
            "Epoch 151/200\n",
            "4/4 - 0s - loss: 0.7841 - Accuracy: 0.6583 - val_loss: 0.7672 - val_Accuracy: 0.7000 - 64ms/epoch - 16ms/step\n",
            "Epoch 152/200\n",
            "4/4 - 0s - loss: 0.7808 - Accuracy: 0.6583 - val_loss: 0.7635 - val_Accuracy: 0.7000 - 41ms/epoch - 10ms/step\n",
            "Epoch 153/200\n",
            "4/4 - 0s - loss: 0.7772 - Accuracy: 0.6583 - val_loss: 0.7608 - val_Accuracy: 0.7000 - 43ms/epoch - 11ms/step\n",
            "Epoch 154/200\n",
            "4/4 - 0s - loss: 0.7739 - Accuracy: 0.6583 - val_loss: 0.7577 - val_Accuracy: 0.7000 - 40ms/epoch - 10ms/step\n",
            "Epoch 155/200\n",
            "4/4 - 0s - loss: 0.7707 - Accuracy: 0.6583 - val_loss: 0.7540 - val_Accuracy: 0.7000 - 44ms/epoch - 11ms/step\n",
            "Epoch 156/200\n",
            "4/4 - 0s - loss: 0.7675 - Accuracy: 0.6583 - val_loss: 0.7507 - val_Accuracy: 0.7000 - 57ms/epoch - 14ms/step\n",
            "Epoch 157/200\n",
            "4/4 - 0s - loss: 0.7643 - Accuracy: 0.6583 - val_loss: 0.7481 - val_Accuracy: 0.7000 - 42ms/epoch - 11ms/step\n",
            "Epoch 158/200\n",
            "4/4 - 0s - loss: 0.7613 - Accuracy: 0.6583 - val_loss: 0.7444 - val_Accuracy: 0.7000 - 60ms/epoch - 15ms/step\n",
            "Epoch 159/200\n",
            "4/4 - 0s - loss: 0.7581 - Accuracy: 0.6583 - val_loss: 0.7415 - val_Accuracy: 0.7000 - 54ms/epoch - 14ms/step\n",
            "Epoch 160/200\n",
            "4/4 - 0s - loss: 0.7552 - Accuracy: 0.6583 - val_loss: 0.7388 - val_Accuracy: 0.7000 - 60ms/epoch - 15ms/step\n",
            "Epoch 161/200\n",
            "4/4 - 0s - loss: 0.7522 - Accuracy: 0.6583 - val_loss: 0.7360 - val_Accuracy: 0.7000 - 58ms/epoch - 15ms/step\n",
            "Epoch 162/200\n",
            "4/4 - 0s - loss: 0.7493 - Accuracy: 0.6583 - val_loss: 0.7329 - val_Accuracy: 0.7000 - 41ms/epoch - 10ms/step\n",
            "Epoch 163/200\n",
            "4/4 - 0s - loss: 0.7465 - Accuracy: 0.6583 - val_loss: 0.7299 - val_Accuracy: 0.7000 - 46ms/epoch - 11ms/step\n",
            "Epoch 164/200\n",
            "4/4 - 0s - loss: 0.7438 - Accuracy: 0.6583 - val_loss: 0.7274 - val_Accuracy: 0.7000 - 40ms/epoch - 10ms/step\n",
            "Epoch 165/200\n",
            "4/4 - 0s - loss: 0.7410 - Accuracy: 0.6583 - val_loss: 0.7253 - val_Accuracy: 0.7000 - 44ms/epoch - 11ms/step\n",
            "Epoch 166/200\n",
            "4/4 - 0s - loss: 0.7384 - Accuracy: 0.6583 - val_loss: 0.7226 - val_Accuracy: 0.7000 - 43ms/epoch - 11ms/step\n",
            "Epoch 167/200\n",
            "4/4 - 0s - loss: 0.7356 - Accuracy: 0.6583 - val_loss: 0.7193 - val_Accuracy: 0.7000 - 40ms/epoch - 10ms/step\n",
            "Epoch 168/200\n",
            "4/4 - 0s - loss: 0.7333 - Accuracy: 0.6583 - val_loss: 0.7160 - val_Accuracy: 0.7000 - 58ms/epoch - 15ms/step\n",
            "Epoch 169/200\n",
            "4/4 - 0s - loss: 0.7306 - Accuracy: 0.6583 - val_loss: 0.7137 - val_Accuracy: 0.7000 - 61ms/epoch - 15ms/step\n",
            "Epoch 170/200\n",
            "4/4 - 0s - loss: 0.7280 - Accuracy: 0.6583 - val_loss: 0.7117 - val_Accuracy: 0.7000 - 42ms/epoch - 10ms/step\n",
            "Epoch 171/200\n",
            "4/4 - 0s - loss: 0.7255 - Accuracy: 0.6583 - val_loss: 0.7086 - val_Accuracy: 0.7000 - 41ms/epoch - 10ms/step\n",
            "Epoch 172/200\n",
            "4/4 - 0s - loss: 0.7230 - Accuracy: 0.6583 - val_loss: 0.7061 - val_Accuracy: 0.7000 - 42ms/epoch - 10ms/step\n",
            "Epoch 173/200\n",
            "4/4 - 0s - loss: 0.7207 - Accuracy: 0.6583 - val_loss: 0.7032 - val_Accuracy: 0.7000 - 41ms/epoch - 10ms/step\n",
            "Epoch 174/200\n",
            "4/4 - 0s - loss: 0.7183 - Accuracy: 0.6583 - val_loss: 0.7006 - val_Accuracy: 0.7000 - 61ms/epoch - 15ms/step\n",
            "Epoch 175/200\n",
            "4/4 - 0s - loss: 0.7158 - Accuracy: 0.6583 - val_loss: 0.6982 - val_Accuracy: 0.7000 - 42ms/epoch - 11ms/step\n",
            "Epoch 176/200\n",
            "4/4 - 0s - loss: 0.7134 - Accuracy: 0.6583 - val_loss: 0.6958 - val_Accuracy: 0.7000 - 57ms/epoch - 14ms/step\n",
            "Epoch 177/200\n",
            "4/4 - 0s - loss: 0.7113 - Accuracy: 0.6583 - val_loss: 0.6933 - val_Accuracy: 0.7000 - 39ms/epoch - 10ms/step\n",
            "Epoch 178/200\n",
            "4/4 - 0s - loss: 0.7090 - Accuracy: 0.6583 - val_loss: 0.6907 - val_Accuracy: 0.7000 - 53ms/epoch - 13ms/step\n",
            "Epoch 179/200\n",
            "4/4 - 0s - loss: 0.7067 - Accuracy: 0.6583 - val_loss: 0.6881 - val_Accuracy: 0.7000 - 61ms/epoch - 15ms/step\n",
            "Epoch 180/200\n",
            "4/4 - 0s - loss: 0.7044 - Accuracy: 0.6583 - val_loss: 0.6857 - val_Accuracy: 0.7000 - 46ms/epoch - 12ms/step\n",
            "Epoch 181/200\n",
            "4/4 - 0s - loss: 0.7021 - Accuracy: 0.6583 - val_loss: 0.6832 - val_Accuracy: 0.7000 - 56ms/epoch - 14ms/step\n",
            "Epoch 182/200\n",
            "4/4 - 0s - loss: 0.7000 - Accuracy: 0.6583 - val_loss: 0.6807 - val_Accuracy: 0.7000 - 60ms/epoch - 15ms/step\n",
            "Epoch 183/200\n",
            "4/4 - 0s - loss: 0.6979 - Accuracy: 0.6583 - val_loss: 0.6787 - val_Accuracy: 0.7000 - 47ms/epoch - 12ms/step\n",
            "Epoch 184/200\n",
            "4/4 - 0s - loss: 0.6957 - Accuracy: 0.6583 - val_loss: 0.6762 - val_Accuracy: 0.7000 - 39ms/epoch - 10ms/step\n",
            "Epoch 185/200\n",
            "4/4 - 0s - loss: 0.6936 - Accuracy: 0.6583 - val_loss: 0.6739 - val_Accuracy: 0.7000 - 42ms/epoch - 10ms/step\n",
            "Epoch 186/200\n",
            "4/4 - 0s - loss: 0.6916 - Accuracy: 0.6583 - val_loss: 0.6718 - val_Accuracy: 0.7000 - 46ms/epoch - 11ms/step\n",
            "Epoch 187/200\n",
            "4/4 - 0s - loss: 0.6895 - Accuracy: 0.6583 - val_loss: 0.6702 - val_Accuracy: 0.7000 - 44ms/epoch - 11ms/step\n",
            "Epoch 188/200\n",
            "4/4 - 0s - loss: 0.6875 - Accuracy: 0.6583 - val_loss: 0.6685 - val_Accuracy: 0.7000 - 60ms/epoch - 15ms/step\n",
            "Epoch 189/200\n",
            "4/4 - 0s - loss: 0.6854 - Accuracy: 0.6583 - val_loss: 0.6666 - val_Accuracy: 0.7000 - 41ms/epoch - 10ms/step\n",
            "Epoch 190/200\n",
            "4/4 - 0s - loss: 0.6835 - Accuracy: 0.6583 - val_loss: 0.6644 - val_Accuracy: 0.7000 - 41ms/epoch - 10ms/step\n",
            "Epoch 191/200\n",
            "4/4 - 0s - loss: 0.6816 - Accuracy: 0.6583 - val_loss: 0.6623 - val_Accuracy: 0.7000 - 59ms/epoch - 15ms/step\n",
            "Epoch 192/200\n",
            "4/4 - 0s - loss: 0.6797 - Accuracy: 0.6583 - val_loss: 0.6600 - val_Accuracy: 0.7000 - 59ms/epoch - 15ms/step\n",
            "Epoch 193/200\n",
            "4/4 - 0s - loss: 0.6777 - Accuracy: 0.6583 - val_loss: 0.6581 - val_Accuracy: 0.7000 - 41ms/epoch - 10ms/step\n",
            "Epoch 194/200\n",
            "4/4 - 0s - loss: 0.6761 - Accuracy: 0.6583 - val_loss: 0.6561 - val_Accuracy: 0.7000 - 49ms/epoch - 12ms/step\n",
            "Epoch 195/200\n",
            "4/4 - 0s - loss: 0.6740 - Accuracy: 0.6583 - val_loss: 0.6543 - val_Accuracy: 0.7000 - 62ms/epoch - 15ms/step\n",
            "Epoch 196/200\n",
            "4/4 - 0s - loss: 0.6721 - Accuracy: 0.6583 - val_loss: 0.6527 - val_Accuracy: 0.7000 - 61ms/epoch - 15ms/step\n",
            "Epoch 197/200\n",
            "4/4 - 0s - loss: 0.6704 - Accuracy: 0.6583 - val_loss: 0.6515 - val_Accuracy: 0.7000 - 50ms/epoch - 13ms/step\n",
            "Epoch 198/200\n",
            "4/4 - 0s - loss: 0.6686 - Accuracy: 0.6583 - val_loss: 0.6495 - val_Accuracy: 0.7000 - 40ms/epoch - 10ms/step\n",
            "Epoch 199/200\n",
            "4/4 - 0s - loss: 0.6668 - Accuracy: 0.6583 - val_loss: 0.6475 - val_Accuracy: 0.7000 - 58ms/epoch - 14ms/step\n",
            "Epoch 200/200\n",
            "4/4 - 0s - loss: 0.6652 - Accuracy: 0.6583 - val_loss: 0.6454 - val_Accuracy: 0.7000 - 41ms/epoch - 10ms/step\n"
          ]
        }
      ]
    },
    {
      "cell_type": "markdown",
      "source": [
        "Ploting learning curves"
      ],
      "metadata": {
        "id": "clMFqF5NB_oH"
      }
    },
    {
      "cell_type": "code",
      "source": [
        "from matplotlib import pyplot"
      ],
      "metadata": {
        "id": "EmHkh2e_CC_c"
      },
      "execution_count": 26,
      "outputs": []
    },
    {
      "cell_type": "code",
      "source": [
        "pyplot.title('Learning Curves')\n",
        "pyplot.xlabel('Epoch')\n",
        "pyplot.ylabel('Accuracy')\n",
        "pyplot.plot(hist.history['Accuracy'], label='train')\n",
        "pyplot.plot(hist.history['val_accuracy'], label='val')\n",
        "pyplot.legend()\n",
        "pyplot.show()"
      ],
      "metadata": {
        "colab": {
          "base_uri": "https://localhost:8080/",
          "height": 665
        },
        "id": "YOFWKZwYCFsM",
        "outputId": "68badc41-621e-424f-c23f-691266bb14e7"
      },
      "execution_count": 28,
      "outputs": [
        {
          "output_type": "error",
          "ename": "NameError",
          "evalue": "name 'hist' is not defined",
          "traceback": [
            "\u001b[0;31m---------------------------------------------------------------------------\u001b[0m",
            "\u001b[0;31mNameError\u001b[0m                                 Traceback (most recent call last)",
            "\u001b[0;32m<ipython-input-28-c68ba4064093>\u001b[0m in \u001b[0;36m<cell line: 4>\u001b[0;34m()\u001b[0m\n\u001b[1;32m      2\u001b[0m \u001b[0mpyplot\u001b[0m\u001b[0;34m.\u001b[0m\u001b[0mxlabel\u001b[0m\u001b[0;34m(\u001b[0m\u001b[0;34m'Epoch'\u001b[0m\u001b[0;34m)\u001b[0m\u001b[0;34m\u001b[0m\u001b[0;34m\u001b[0m\u001b[0m\n\u001b[1;32m      3\u001b[0m \u001b[0mpyplot\u001b[0m\u001b[0;34m.\u001b[0m\u001b[0mylabel\u001b[0m\u001b[0;34m(\u001b[0m\u001b[0;34m'Accuracy'\u001b[0m\u001b[0;34m)\u001b[0m\u001b[0;34m\u001b[0m\u001b[0;34m\u001b[0m\u001b[0m\n\u001b[0;32m----> 4\u001b[0;31m \u001b[0mpyplot\u001b[0m\u001b[0;34m.\u001b[0m\u001b[0mplot\u001b[0m\u001b[0;34m(\u001b[0m\u001b[0mhist\u001b[0m\u001b[0;34m.\u001b[0m\u001b[0mhistory\u001b[0m\u001b[0;34m[\u001b[0m\u001b[0;34m'Accuracy'\u001b[0m\u001b[0;34m]\u001b[0m\u001b[0;34m,\u001b[0m \u001b[0mlabel\u001b[0m\u001b[0;34m=\u001b[0m\u001b[0;34m'train'\u001b[0m\u001b[0;34m)\u001b[0m\u001b[0;34m\u001b[0m\u001b[0;34m\u001b[0m\u001b[0m\n\u001b[0m\u001b[1;32m      5\u001b[0m \u001b[0mpyplot\u001b[0m\u001b[0;34m.\u001b[0m\u001b[0mplot\u001b[0m\u001b[0;34m(\u001b[0m\u001b[0mhist\u001b[0m\u001b[0;34m.\u001b[0m\u001b[0mhistory\u001b[0m\u001b[0;34m[\u001b[0m\u001b[0;34m'val_accuracy'\u001b[0m\u001b[0;34m]\u001b[0m\u001b[0;34m,\u001b[0m \u001b[0mlabel\u001b[0m\u001b[0;34m=\u001b[0m\u001b[0;34m'val'\u001b[0m\u001b[0;34m)\u001b[0m\u001b[0;34m\u001b[0m\u001b[0;34m\u001b[0m\u001b[0m\n\u001b[1;32m      6\u001b[0m \u001b[0mpyplot\u001b[0m\u001b[0;34m.\u001b[0m\u001b[0mlegend\u001b[0m\u001b[0;34m(\u001b[0m\u001b[0;34m)\u001b[0m\u001b[0;34m\u001b[0m\u001b[0;34m\u001b[0m\u001b[0m\n",
            "\u001b[0;31mNameError\u001b[0m: name 'hist' is not defined"
          ]
        },
        {
          "output_type": "display_data",
          "data": {
            "text/plain": [
              "<Figure size 640x480 with 1 Axes>"
            ],
            "image/png": "[encoded data removed]"
          },
          "metadata": {}
        }
      ]
    },
    {
      "cell_type": "code",
      "source": [
        "pyplot.title('Learning Curves')\n",
        "pyplot.xlabel('Epoch')\n",
        "pyplot.ylabel('Accuracy')\n",
        "pyplot.plot(hist.history['loss'], label='train loss')\n",
        "pyplot.plot(hist.history['val_loss'], label='val loss')\n",
        "pyplot.legend()\n",
        "pyplot.show()"
      ],
      "metadata": {
        "colab": {
          "base_uri": "https://localhost:8080/",
          "height": 665
        },
        "id": "XuJfY1a5CoXr",
        "outputId": "8d44c489-38b7-42cf-d4ce-fd2439b3251b"
      },
      "execution_count": 29,
      "outputs": [
        {
          "output_type": "error",
          "ename": "NameError",
          "evalue": "name 'hist' is not defined",
          "traceback": [
            "\u001b[0;31m---------------------------------------------------------------------------\u001b[0m",
            "\u001b[0;31mNameError\u001b[0m                                 Traceback (most recent call last)",
            "\u001b[0;32m<ipython-input-29-e02d295c84af>\u001b[0m in \u001b[0;36m<cell line: 4>\u001b[0;34m()\u001b[0m\n\u001b[1;32m      2\u001b[0m \u001b[0mpyplot\u001b[0m\u001b[0;34m.\u001b[0m\u001b[0mxlabel\u001b[0m\u001b[0;34m(\u001b[0m\u001b[0;34m'Epoch'\u001b[0m\u001b[0;34m)\u001b[0m\u001b[0;34m\u001b[0m\u001b[0;34m\u001b[0m\u001b[0m\n\u001b[1;32m      3\u001b[0m \u001b[0mpyplot\u001b[0m\u001b[0;34m.\u001b[0m\u001b[0mylabel\u001b[0m\u001b[0;34m(\u001b[0m\u001b[0;34m'Accuracy'\u001b[0m\u001b[0;34m)\u001b[0m\u001b[0;34m\u001b[0m\u001b[0;34m\u001b[0m\u001b[0m\n\u001b[0;32m----> 4\u001b[0;31m \u001b[0mpyplot\u001b[0m\u001b[0;34m.\u001b[0m\u001b[0mplot\u001b[0m\u001b[0;34m(\u001b[0m\u001b[0mhist\u001b[0m\u001b[0;34m.\u001b[0m\u001b[0mhistory\u001b[0m\u001b[0;34m[\u001b[0m\u001b[0;34m'loss'\u001b[0m\u001b[0;34m]\u001b[0m\u001b[0;34m,\u001b[0m \u001b[0mlabel\u001b[0m\u001b[0;34m=\u001b[0m\u001b[0;34m'train loss'\u001b[0m\u001b[0;34m)\u001b[0m\u001b[0;34m\u001b[0m\u001b[0;34m\u001b[0m\u001b[0m\n\u001b[0m\u001b[1;32m      5\u001b[0m \u001b[0mpyplot\u001b[0m\u001b[0;34m.\u001b[0m\u001b[0mplot\u001b[0m\u001b[0;34m(\u001b[0m\u001b[0mhist\u001b[0m\u001b[0;34m.\u001b[0m\u001b[0mhistory\u001b[0m\u001b[0;34m[\u001b[0m\u001b[0;34m'val_loss'\u001b[0m\u001b[0;34m]\u001b[0m\u001b[0;34m,\u001b[0m \u001b[0mlabel\u001b[0m\u001b[0;34m=\u001b[0m\u001b[0;34m'val loss'\u001b[0m\u001b[0;34m)\u001b[0m\u001b[0;34m\u001b[0m\u001b[0;34m\u001b[0m\u001b[0m\n\u001b[1;32m      6\u001b[0m \u001b[0mpyplot\u001b[0m\u001b[0;34m.\u001b[0m\u001b[0mlegend\u001b[0m\u001b[0;34m(\u001b[0m\u001b[0;34m)\u001b[0m\u001b[0;34m\u001b[0m\u001b[0;34m\u001b[0m\u001b[0m\n",
            "\u001b[0;31mNameError\u001b[0m: name 'hist' is not defined"
          ]
        },
        {
          "output_type": "display_data",
          "data": {
            "text/plain": [
              "<Figure size 640x480 with 1 Axes>"
            ],
            "image/png": "[encoded data removed]"
          },
          "metadata": {}
        }
      ]
    },
    {
      "cell_type": "markdown",
      "source": [
        "Evaluasi Model"
      ],
      "metadata": {
        "id": "ghyobugUC3KU"
      }
    },
    {
      "cell_type": "code",
      "source": [
        "loss, acc = model.evaluate(X_test, y_test, verbose=2)\n",
        "print(f'Test Accuracy: {acc}')"
      ],
      "metadata": {
        "colab": {
          "base_uri": "https://localhost:8080/"
        },
        "id": "zn3D-0AtC51a",
        "outputId": "79efb393-6a07-4e41-d34b-7bf69a023291"
      },
      "execution_count": 31,
      "outputs": [
        {
          "output_type": "stream",
          "name": "stdout",
          "text": [
            "1/1 - 0s - loss: 0.6454 - Accuracy: 0.7000 - 57ms/epoch - 57ms/step\n",
            "Test Accuracy: 0.699999988079071\n"
          ]
        }
      ]
    },
    {
      "cell_type": "markdown",
      "source": [
        "Bangun prediction"
      ],
      "metadata": {
        "id": "YxyBr_lPDAU1"
      }
    },
    {
      "cell_type": "code",
      "source": [
        "from numpy import argmax"
      ],
      "metadata": {
        "id": "Z3Xp-KURDD0o"
      },
      "execution_count": 32,
      "outputs": []
    },
    {
      "cell_type": "code",
      "source": [
        "#input data baru\n",
        "new_sepal_length = float(input('Input Sepal Length :'))\n",
        "new_sepal_width = float(input('Input Sepal width :'))\n",
        "new_petal_length = float(input('Input Petal Length :'))\n",
        "new_petal_width = float(input('Input Pepal Length :'))\n",
        "\n",
        "new_data = [new_sepal_length, new_sepal_width, new_petal_length, new_petal_width]\n",
        "\n",
        "#prediksi data baru lalu cari classnya\n",
        "y_pred = model.predict([new_data])\n",
        "y_class = argmax(y_pred)\n",
        "\n",
        "#cetak hasil prediksi\n",
        "print(f'\\nHasil Prediksi:{y_pred} (class={y_class}) \\n')\n",
        "\n",
        "if y_class == 0:\n",
        "  print('Iris Setosa')\n",
        "elif y_class == 1:\n",
        "  print('Iris Versicolor')\n",
        "elif y_class == 2:\n",
        "  print('Iris Virginica')\n"
      ],
      "metadata": {
        "colab": {
          "base_uri": "https://localhost:8080/"
        },
        "id": "DNwrwgkrDPFK",
        "outputId": "79c4f838-8802-4b68-9d54-2a8e1ae8611d"
      },
      "execution_count": 34,
      "outputs": [
        {
          "output_type": "stream",
          "name": "stdout",
          "text": [
            "Input Sepal Length :2\n",
            "Input Sepal width :2\n",
            "Input Petal Length :3\n",
            "Input Pepal Length :3\n",
            "1/1 [==============================] - 0s 105ms/step\n",
            "\n",
            "Hasil Prediksi:[[0.17697717 0.41873062 0.40429214]] (class=1) \n",
            "\n",
            "Iris Versicolor\n"
          ]
        }
      ]
    },
    {
      "cell_type": "markdown",
      "source": [
        "Simpan Model"
      ],
      "metadata": {
        "id": "gQxF2WKVEwlQ"
      }
    },
    {
      "cell_type": "code",
      "source": [
        "model.save('model.h5')"
      ],
      "metadata": {
        "colab": {
          "base_uri": "https://localhost:8080/"
        },
        "id": "O1NEhefBEve_",
        "outputId": "10a41b69-da79-4fc3-d86e-e20102dc48bc"
      },
      "execution_count": 35,
      "outputs": [
        {
          "output_type": "stream",
          "name": "stderr",
          "text": [
            "/usr/local/lib/python3.10/dist-packages/keras/src/engine/training.py:3103: UserWarning: You are saving your model as an HDF5 file via `model.save()`. This file format is considered legacy. We recommend using instead the native Keras format, e.g. `model.save('my_model.keras')`.\n",
            "  saving_api.save_model(\n"
          ]
        }
      ]
    },
    {
      "cell_type": "markdown",
      "source": [
        "Load Model"
      ],
      "metadata": {
        "id": "Fe3-0ZYIE40N"
      }
    },
    {
      "cell_type": "code",
      "source": [
        "from tensorflow.keras.models import load_model"
      ],
      "metadata": {
        "id": "SNuuF87iE1ms"
      },
      "execution_count": 36,
      "outputs": []
    },
    {
      "cell_type": "markdown",
      "source": [],
      "metadata": {
        "id": "b14XrLI-MDiK"
      }
    },
    {
      "cell_type": "code",
      "source": [
        "model = load_model('model.h5')\n",
        "\n",
        "new_data = [5.1, 3.5, 1.4, 0.2]\n",
        "y_pred = model.predict([new_data])\n",
        "print('\\nPredicted:%s (class=%d)') % (y_pred, argmax(y_pred))"
      ],
      "metadata": {
        "colab": {
          "base_uri": "https://localhost:8080/",
          "height": 228
        },
        "id": "fEdpM9YxE_Bh",
        "outputId": "8e2ea79c-c746-44c4-e6db-89f1c42a73ae"
      },
      "execution_count": 44,
      "outputs": [
        {
          "output_type": "stream",
          "name": "stdout",
          "text": [
            "1/1 [==============================] - 0s 75ms/step\n",
            "\n",
            "Predicted:%s (class=%d)\n"
          ]
        },
        {
          "output_type": "error",
          "ename": "TypeError",
          "evalue": "unsupported operand type(s) for %: 'NoneType' and 'tuple'",
          "traceback": [
            "\u001b[0;31m---------------------------------------------------------------------------\u001b[0m",
            "\u001b[0;31mTypeError\u001b[0m                                 Traceback (most recent call last)",
            "\u001b[0;32m<ipython-input-44-cd1a618b82f0>\u001b[0m in \u001b[0;36m<cell line: 5>\u001b[0;34m()\u001b[0m\n\u001b[1;32m      3\u001b[0m \u001b[0mnew_data\u001b[0m \u001b[0;34m=\u001b[0m \u001b[0;34m[\u001b[0m\u001b[0;36m5.1\u001b[0m\u001b[0;34m,\u001b[0m \u001b[0;36m3.5\u001b[0m\u001b[0;34m,\u001b[0m \u001b[0;36m1.4\u001b[0m\u001b[0;34m,\u001b[0m \u001b[0;36m0.2\u001b[0m\u001b[0;34m]\u001b[0m\u001b[0;34m\u001b[0m\u001b[0;34m\u001b[0m\u001b[0m\n\u001b[1;32m      4\u001b[0m \u001b[0my_pred\u001b[0m \u001b[0;34m=\u001b[0m \u001b[0mmodel\u001b[0m\u001b[0;34m.\u001b[0m\u001b[0mpredict\u001b[0m\u001b[0;34m(\u001b[0m\u001b[0;34m[\u001b[0m\u001b[0mnew_data\u001b[0m\u001b[0;34m]\u001b[0m\u001b[0;34m)\u001b[0m\u001b[0;34m\u001b[0m\u001b[0;34m\u001b[0m\u001b[0m\n\u001b[0;32m----> 5\u001b[0;31m \u001b[0mprint\u001b[0m\u001b[0;34m(\u001b[0m\u001b[0;34m'\\nPredicted:%s (class=%d)'\u001b[0m\u001b[0;34m)\u001b[0m \u001b[0;34m%\u001b[0m \u001b[0;34m(\u001b[0m\u001b[0my_pred\u001b[0m\u001b[0;34m,\u001b[0m \u001b[0margmax\u001b[0m\u001b[0;34m(\u001b[0m\u001b[0my_pred\u001b[0m\u001b[0;34m)\u001b[0m\u001b[0;34m)\u001b[0m\u001b[0;34m\u001b[0m\u001b[0;34m\u001b[0m\u001b[0m\n\u001b[0m",
            "\u001b[0;31mTypeError\u001b[0m: unsupported operand type(s) for %: 'NoneType' and 'tuple'"
          ]
        }
      ]
    },
    {
      "cell_type": "markdown",
      "source": [
        "# DL Techniques"
      ],
      "metadata": {
        "id": "is92Oth8Fdfp"
      }
    },
    {
      "cell_type": "markdown",
      "source": [
        "Dropout"
      ],
      "metadata": {
        "id": "3bznjqrjFmOp"
      }
    },
    {
      "cell_type": "code",
      "source": [
        "from tensorflow.keras.layers import Dropout"
      ],
      "metadata": {
        "id": "R542MerTFoLb"
      },
      "execution_count": 45,
      "outputs": []
    },
    {
      "cell_type": "code",
      "source": [
        "model = Sequential(name='Dropout_Example')\n",
        "model.add(Dense(100, input_shape=(10,)))\n",
        "model.add(Dense(80))\n",
        "model.add(Dropout(0.5)) #dropout 50% neuron dari hiden layer 2\n",
        "model.add(Dense(30))\n",
        "model.add(Dropout(0.4)) #dropout 40% neuron dari hiden layer 3\n",
        "model.add(Dense(10))\n",
        "model.add(Dropout(0.2)) #dropout 20% neuron dari hiden layer 4\n",
        "model.add(Dense(5))\n",
        "model.add(Dense(1))\n",
        "\n",
        "model.summary()"
      ],
      "metadata": {
        "colab": {
          "base_uri": "https://localhost:8080/"
        },
        "id": "biweWHUgFuht",
        "outputId": "302775fc-145a-4f45-cbae-e060eabe57fd"
      },
      "execution_count": 46,
      "outputs": [
        {
          "output_type": "stream",
          "name": "stdout",
          "text": [
            "Model: \"Dropout_Example\"\n",
            "_________________________________________________________________\n",
            " Layer (type)                Output Shape              Param #   \n",
            "=================================================================\n",
            " dense_9 (Dense)             (None, 100)               1100      \n",
            "                                                                 \n",
            " dense_10 (Dense)            (None, 80)                8080      \n",
            "                                                                 \n",
            " dropout (Dropout)           (None, 80)                0         \n",
            "                                                                 \n",
            " dense_11 (Dense)            (None, 30)                2430      \n",
            "                                                                 \n",
            " dropout_1 (Dropout)         (None, 30)                0         \n",
            "                                                                 \n",
            " dense_12 (Dense)            (None, 10)                310       \n",
            "                                                                 \n",
            " dropout_2 (Dropout)         (None, 10)                0         \n",
            "                                                                 \n",
            " dense_13 (Dense)            (None, 5)                 55        \n",
            "                                                                 \n",
            " dense_14 (Dense)            (None, 1)                 6         \n",
            "                                                                 \n",
            "=================================================================\n",
            "Total params: 11981 (46.80 KB)\n",
            "Trainable params: 11981 (46.80 KB)\n",
            "Non-trainable params: 0 (0.00 Byte)\n",
            "_________________________________________________________________\n"
          ]
        }
      ]
    },
    {
      "cell_type": "markdown",
      "source": [
        "Batch Normalization"
      ],
      "metadata": {
        "id": "UBLjjr3NIYkf"
      }
    },
    {
      "cell_type": "code",
      "source": [
        "from tensorflow.keras.layers import BatchNormalization"
      ],
      "metadata": {
        "id": "LGqYjK5FIXNl"
      },
      "execution_count": 47,
      "outputs": []
    },
    {
      "cell_type": "code",
      "source": [
        "model = Sequential(name='Batch_Normalization_Example')\n",
        "model.add(Dense(100, input_shape=(10,)))\n",
        "model.add(BatchNormalization())\n",
        "model.add(Dense(80))\n",
        "model.add(BatchNormalization())\n",
        "model.add(Dense(30))\n",
        "model.add(BatchNormalization())\n",
        "model.add(Dense(10))\n",
        "model.add(Dense(5))\n",
        "model.add(Dense(1))\n",
        "\n",
        "model.summary()"
      ],
      "metadata": {
        "colab": {
          "base_uri": "https://localhost:8080/"
        },
        "id": "VSaTxjUAJAfT",
        "outputId": "f423011d-38bc-462f-e1bf-3e243e8a0d37"
      },
      "execution_count": 48,
      "outputs": [
        {
          "output_type": "stream",
          "name": "stdout",
          "text": [
            "Model: \"Batch_Normalization_Example\"\n",
            "_________________________________________________________________\n",
            " Layer (type)                Output Shape              Param #   \n",
            "=================================================================\n",
            " dense_15 (Dense)            (None, 100)               1100      \n",
            "                                                                 \n",
            " batch_normalization (Batch  (None, 100)               400       \n",
            " Normalization)                                                  \n",
            "                                                                 \n",
            " dense_16 (Dense)            (None, 80)                8080      \n",
            "                                                                 \n",
            " batch_normalization_1 (Bat  (None, 80)                320       \n",
            " chNormalization)                                                \n",
            "                                                                 \n",
            " dense_17 (Dense)            (None, 30)                2430      \n",
            "                                                                 \n",
            " batch_normalization_2 (Bat  (None, 30)                120       \n",
            " chNormalization)                                                \n",
            "                                                                 \n",
            " dense_18 (Dense)            (None, 10)                310       \n",
            "                                                                 \n",
            " dense_19 (Dense)            (None, 5)                 55        \n",
            "                                                                 \n",
            " dense_20 (Dense)            (None, 1)                 6         \n",
            "                                                                 \n",
            "=================================================================\n",
            "Total params: 12821 (50.08 KB)\n",
            "Trainable params: 12401 (48.44 KB)\n",
            "Non-trainable params: 420 (1.64 KB)\n",
            "_________________________________________________________________\n"
          ]
        }
      ]
    }
  ]
}